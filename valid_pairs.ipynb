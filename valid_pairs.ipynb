{
 "cells": [
  {
   "cell_type": "markdown",
   "metadata": {
    "toc": true
   },
   "source": [
    "<h1>Table of Contents<span class=\"tocSkip\"></span></h1>\n",
    "<div class=\"toc\"><ul class=\"toc-item\"><li><span><a href=\"#&quot;Valid-Pairs&quot;-\" data-toc-modified-id=\"&quot;Valid-Pairs&quot;--1\">\"Valid Pairs\" </a></span><ul class=\"toc-item\"><li><span><a href=\"#Problem-Statement\" data-toc-modified-id=\"Problem-Statement-1.1\">Problem Statement</a></span></li><li><span><a href=\"#Solution\" data-toc-modified-id=\"Solution-1.2\">Solution</a></span></li><li><span><a href=\"#Optimal--Time-&amp;-Space-Complexity\" data-toc-modified-id=\"Optimal--Time-&amp;-Space-Complexity-1.3\">Optimal  Time &amp; Space Complexity</a></span></li></ul></li><li><span><a href=\"#&quot;Valid-Pairs&quot;-Easier-Variation\" data-toc-modified-id=\"&quot;Valid-Pairs&quot;-Easier-Variation-2\">\"Valid Pairs\" Easier Variation</a></span><ul class=\"toc-item\"><li><span><a href=\"#Problem-Statement\" data-toc-modified-id=\"Problem-Statement-2.1\">Problem Statement</a></span></li><li><span><a href=\"#Solution\" data-toc-modified-id=\"Solution-2.2\">Solution</a></span></li><li><span><a href=\"#Optimal-Time-&amp;-Space-Complexity\" data-toc-modified-id=\"Optimal-Time-&amp;-Space-Complexity-2.3\">Optimal Time &amp; Space Complexity</a></span></li></ul></li></ul></div>"
   ]
  },
  {
   "cell_type": "markdown",
   "metadata": {},
   "source": [
    "\"Valid Pairs\" \n",
    "===="
   ]
  },
  {
   "cell_type": "markdown",
   "metadata": {},
   "source": [
    "Problem Statement\n",
    "----\n",
    "\n",
    "You have the following collection of matched pairs:\n",
    "\n",
    "`pairs = {\"()\", \"[]\", \"{}\", \"⦅⦆\", \"〚〛\", \"⦃⦄\", \"『』\", \"〖〗\", \"〘〙\", \"⟦⟧\",  \"⟨⟩\",  \"⟪⟫\",  \"⟮⟯\", \"⟬⟭\", \"⌈⌉\", \"⌊⌋\", \"⦇⦈\", \"⦉⦊\"}`\n",
    "\n",
    "Determine if the input string is valid. Every open element of a pair must be closed by the other element of pair. Every open pair must be closed in the correct order. For example, `\"{[]}\"` is valid. Any other strings are not valid.\n",
    "\n",
    "Based on this https://leetcode.com/problems/valid-parentheses/"
   ]
  },
  {
   "cell_type": "code",
   "execution_count": 21,
   "metadata": {},
   "outputs": [],
   "source": [
    "reset -fs"
   ]
  },
  {
   "cell_type": "code",
   "execution_count": 22,
   "metadata": {},
   "outputs": [],
   "source": [
    "# Define helper data structures\n",
    "pairs = [\"()\", \"[]\", \"{}\", \"⦅⦆\", \"〚〛\", \"⦃⦄\", \"『』\", \"〖〗\", \"〘〙\", \"⟦⟧\",  \"⟨⟩\",  \"⟪⟫\",  \"⟮⟯\", \"⟬⟭\", \"⌈⌉\", \"⌊⌋\", \"⦇⦈\", \"⦉⦊\"]\n",
    "# Given a closing member, find its mached opening pair.\n",
    "pair_maps = {p[1]:p[0] for p in pairs}\n",
    "# Hash opening members \n",
    "openings = set(pair_maps.values()) "
   ]
  },
  {
   "cell_type": "code",
   "execution_count": 23,
   "metadata": {},
   "outputs": [],
   "source": [
    "def test_is_valid(is_valid):\n",
    "    \n",
    "    # Valid examples\n",
    "    assert all([is_valid(_) for _ in pairs]) # Each one individually is valid\n",
    "    assert is_valid(\"\".join(pairs))          # All together they are still valid\n",
    "    assert is_valid(\"{[]}\")                  # Nested\n",
    "\n",
    "    # Not valid examples\n",
    "    assert not is_valid(\"🦄\")     # Out of vocab\n",
    "    assert not is_valid(\"()🦄\")   # Out of vocab\n",
    "    assert not is_valid(\"(\")      # Just left\n",
    "    assert not is_valid(\"⦇\")      # Just left\n",
    "    assert not is_valid(\"⟫\")      # Just right\n",
    "    assert not is_valid(\"(]\")     # Mismatched pair\n",
    "    assert not is_valid(\"⦉[⦊]\")    # Interleaved pair\n",
    "    return \"All tests pass 🙂\""
   ]
  },
  {
   "cell_type": "markdown",
   "metadata": {},
   "source": [
    "Solution\n",
    "----\n"
   ]
  },
  {
   "cell_type": "code",
   "execution_count": 28,
   "metadata": {},
   "outputs": [
    {
     "name": "stdout",
     "output_type": "stream",
     "text": [
      "All tests pass 🙂\n"
     ]
    }
   ],
   "source": [
    "def is_valid(seq: str) -> bool:\n",
    "    \"Use a stack to find valid matched pairs.\"\n",
    "    stack = []                                                   # FIFO collection of items seen                         # Hashed for constant time look-up\n",
    "    for c in seq:                                                # Look at each character in string\n",
    "        if c in openings:                                        # If it is an \"opening\" member\n",
    "            stack.append(c)                                      # Add it to the stack \n",
    "        elif c in pair_map.keys():                               # If it is a \"closing\" member\n",
    "            if (stack == []) or (pair_map[c] != stack.pop()):    # Short-curcuit the search\n",
    "                return False\n",
    "        else:                                                    # Handle out-of-vocab tokens \n",
    "            return False\n",
    "    return stack == []                                           # If stack is empty then every opening has a close, else there is an orphan.\n",
    "\n",
    "print(test_is_valid(is_valid))"
   ]
  },
  {
   "cell_type": "markdown",
   "metadata": {},
   "source": [
    "Optimal  Time & Space Complexity\n",
    "----\n",
    "\n",
    "Time - O(n) where is n is length of the string.\n",
    "\n",
    "Space - O(m) where m is the number of nested pairs stored in the stack."
   ]
  },
  {
   "cell_type": "markdown",
   "metadata": {},
   "source": [
    "<br>\n",
    "<br> \n",
    "<br>\n",
    "\n",
    "----\n",
    "\n",
    "\"Valid Pairs\" Easier Variation\n",
    "====\n",
    "\n",
    "This is slightly easier version to try."
   ]
  },
  {
   "cell_type": "markdown",
   "metadata": {},
   "source": [
    "Problem Statement\n",
    "-----\n",
    "You have the following collection of matched pairs:\n",
    "\n",
    "```python\n",
    "\n",
    "pairs = {\"()\", \"[]\", \"{}\", \"⦅⦆\", \"〚〛\", \"⦃⦄\", \"『』\", \"〖〗\", \"〘〙\", \"⟦⟧\",  \"⟨⟩\",  \"⟪⟫\",  \"⟮⟯\", \"⟬⟭\", \"⌈⌉\", \"⌊⌋\", \"⦇⦈\", \"⦉⦊\"}\n",
    "\n",
    "```\n",
    "\n",
    "Determine if the input string is valid. A valid string has to have each respective open and closing pair next to each other. Any other string is not valid."
   ]
  },
  {
   "cell_type": "markdown",
   "metadata": {},
   "source": [
    "Solution\n",
    "-----"
   ]
  },
  {
   "cell_type": "code",
   "execution_count": 25,
   "metadata": {},
   "outputs": [],
   "source": [
    "def test_is_valid_simple(is_valid):\n",
    "    assert all([is_valid(_) for _ in pairs]) # Each one individually is valid\n",
    "    assert is_valid(\"\".join(pairs))          # All together they are still valid\n",
    "\n",
    "    assert not is_valid(\"🦄\")     # Out of vocab\n",
    "    assert not is_valid(\"()🦄\")   # Out of vocab\n",
    "    assert not is_valid(\"(\")      # Just left\n",
    "    assert not is_valid(\"⦇\")       # Just left\n",
    "    assert not is_valid(\"⟫\")      # Just right\n",
    "    assert not is_valid(\"(]\")     # Mismatched pair\n",
    "    assert not is_valid(\"⦉[⦊]\")    # Interleaved pair\n",
    "\n",
    "    return \"All tests pass 🙂\""
   ]
  },
  {
   "cell_type": "code",
   "execution_count": 26,
   "metadata": {},
   "outputs": [
    {
     "name": "stdout",
     "output_type": "stream",
     "text": [
      "All tests pass 🙂\n"
     ]
    }
   ],
   "source": [
    "pairs = set(pairs) # Hashed for constant time look of pairs\n",
    "def is_valid(seq):\n",
    "    \"Check if current pair is in matched set in pairs\"\n",
    "    for i in range(0, len(seq), 2):\n",
    "        if seq[i:i+2] not in pairs: \n",
    "            return False\n",
    "    return True\n",
    "\n",
    "print(test_is_valid_simple(is_valid))"
   ]
  },
  {
   "cell_type": "code",
   "execution_count": 27,
   "metadata": {},
   "outputs": [
    {
     "name": "stdout",
     "output_type": "stream",
     "text": [
      "All tests pass 🙂\n"
     ]
    }
   ],
   "source": [
    "pair_map = {p[1]: p[0] for p in pairs} # Transform into a hash map of closing and opening pairs for constant time look of elements\n",
    "\n",
    "def is_valid(seq):\n",
    "    \"Use a 2-element sliding window to find matched pairs.\"\n",
    "    values = set(pair_map.values()) # Hashed for constant time look-up\n",
    "    if len(seq) % 2:\n",
    "        return False\n",
    "    \n",
    "    # Compare pairs of characters \n",
    "    for i in range(0, len(seq), 2):\n",
    "        first_char, second_char = seq[i], seq[i+1]\n",
    "        if (first_char not in values) and (second_char not in pair_map.keys()): # Character is not valid\n",
    "            return False\n",
    "        elif pair_map.get(second_char) != first_char: # The first character is the partner of second character\n",
    "            return False\n",
    "        else: # Backstop - If not invalid, must be valid\n",
    "            return True\n",
    "        \n",
    "print(test_is_valid_simple(is_valid))"
   ]
  },
  {
   "cell_type": "markdown",
   "metadata": {},
   "source": [
    "Optimal Time & Space Complexity\n",
    "----\n",
    "\n",
    "Time - O(n) where is n is length of the string.\n",
    "\n",
    "Space - O(1) The sliding window never grows"
   ]
  },
  {
   "cell_type": "markdown",
   "metadata": {},
   "source": [
    "<br>\n",
    "<br> \n",
    "<br>\n",
    "\n",
    "----"
   ]
  }
 ],
 "metadata": {
  "kernel_info": {
   "name": "python3"
  },
  "kernelspec": {
   "display_name": "Python 3",
   "language": "python",
   "name": "python3"
  },
  "language_info": {
   "codemirror_mode": {
    "name": "ipython",
    "version": 3
   },
   "file_extension": ".py",
   "mimetype": "text/x-python",
   "name": "python",
   "nbconvert_exporter": "python",
   "pygments_lexer": "ipython3",
   "version": "3.8.8"
  },
  "nteract": {
   "version": "0.12.3"
  },
  "toc": {
   "base_numbering": 1,
   "nav_menu": {},
   "number_sections": false,
   "sideBar": false,
   "skip_h1_title": false,
   "title_cell": "Table of Contents",
   "title_sidebar": "Contents",
   "toc_cell": true,
   "toc_position": {},
   "toc_section_display": true,
   "toc_window_display": false
  }
 },
 "nbformat": 4,
 "nbformat_minor": 4
}
