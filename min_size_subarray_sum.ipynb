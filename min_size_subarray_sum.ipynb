{
 "cells": [
  {
   "cell_type": "markdown",
   "id": "c0b6bb1a",
   "metadata": {},
   "source": [
    "Minimum Size Subarray Sum\n",
    "--------\n",
    "\n",
    "\"Given an array of positive integers nums and a positive integer target, return the minimal length of a subarray whose sum is greater than or equal to target. If there is no such subarray, return 0 instead.\"\n",
    "\n",
    "https://leetcode.com/problems/minimum-size-subarray-sum/description/"
   ]
  },
  {
   "cell_type": "code",
   "execution_count": 22,
   "id": "40b6cd91",
   "metadata": {},
   "outputs": [],
   "source": [
    "def len_min_sub_list(target: int, nums: list[int]) -> int:\n",
    "    \"Single pass through nums by using two pointers.\"\n",
    "    \n",
    "    left_idx, total = 0, 0\n",
    "    result = len(nums) + 1 # Default is larger than a possible value\n",
    "    \n",
    "    for right_idx, n in enumerate(nums):\n",
    "        total += n                                         # Running total\n",
    "        while total >= target:                             # Early stopping \n",
    "            result    = min(result, right_idx-left_idx+1)  # Update final value with smallest of two potential values\n",
    "            total    -= nums[left_idx]                     # Remove from running total\n",
    "            left_idx += 1\n",
    "    \n",
    "    return result if result <= len(nums) else 0\n",
    "\n",
    "\n",
    "assert len_min_sub_list(target=4, nums=[1,4,4])       == 1\n",
    "assert len_min_sub_list(target=7, nums=[2,3,1,2,4,3]) == 2\n",
    "assert len_min_sub_list(target=8, nums=[1,1,1,1,1,1]) == 0"
   ]
  }
 ],
 "metadata": {
  "kernelspec": {
   "display_name": "Python 3 (ipykernel)",
   "language": "python",
   "name": "python3"
  },
  "language_info": {
   "codemirror_mode": {
    "name": "ipython",
    "version": 3
   },
   "file_extension": ".py",
   "mimetype": "text/x-python",
   "name": "python",
   "nbconvert_exporter": "python",
   "pygments_lexer": "ipython3",
   "version": "3.9.16"
  }
 },
 "nbformat": 4,
 "nbformat_minor": 5
}
