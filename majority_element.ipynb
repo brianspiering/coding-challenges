{
 "cells": [
  {
   "cell_type": "markdown",
   "metadata": {
    "toc": true
   },
   "source": [
    "<h1>Table of Contents<span class=\"tocSkip\"></span></h1>\n",
    "<div class=\"toc\"><ul class=\"toc-item\"><li><span><a href=\"#Majority-Element\" data-toc-modified-id=\"Majority-Element-1\">Majority Element</a></span></li></ul></div>"
   ]
  },
  {
   "cell_type": "markdown",
   "metadata": {},
   "source": [
    "Majority Element\n",
    "--------\n",
    "\n",
    "> Given an array of size n, find the majority element. The majority element is the element that appears more than ⌊ n/2 ⌋ times.\n",
    "\n",
    ">You may assume that the array is non-empty and the majority element always exist in the array.\n",
    "\n",
    "https://leetcode.com/problems/majority-element/\n"
   ]
  },
  {
   "cell_type": "code",
   "execution_count": 26,
   "metadata": {},
   "outputs": [],
   "source": [
    "from typing import Callable\n",
    "\n",
    "def test_majority_element(majority_element: Callable) -> str:\n",
    "    \n",
    "    assert majority_element([3, 2, 3]) == 3\n",
    "    assert majority_element([2, 2, 1, 1, 1, 2, 2]) == 2\n",
    "    \n",
    "    return \"All tests pass 🙂\""
   ]
  },
  {
   "cell_type": "code",
   "execution_count": 27,
   "metadata": {},
   "outputs": [
    {
     "data": {
      "text/plain": [
       "'All tests pass 🙂'"
      ]
     },
     "execution_count": 27,
     "metadata": {},
     "output_type": "execute_result"
    }
   ],
   "source": [
    "# Real world solution\n",
    "\n",
    "def majority_element(nums: List[float]) -> float:\n",
    "    \"Real world solution by wrapping statistics.mode.\"\n",
    "    return mode(nums)\n",
    "\n",
    "test_majority_element(majority_element)"
   ]
  },
  {
   "cell_type": "code",
   "execution_count": 28,
   "metadata": {},
   "outputs": [
    {
     "data": {
      "text/plain": [
       "'All tests pass 🙂'"
      ]
     },
     "execution_count": 28,
     "metadata": {},
     "output_type": "execute_result"
    }
   ],
   "source": [
    "# Use the best possible data structure\n",
    "\n",
    "from collections import Counter\n",
    "\n",
    "def majority_element(nums: List[float]) -> float:\n",
    "    \"Use collections.Counter.\"\n",
    "    return Counter(nums).most_common(n=1)[0][0]\n",
    "\n",
    "test_majority_element(majority_element)"
   ]
  },
  {
   "cell_type": "code",
   "execution_count": 32,
   "metadata": {},
   "outputs": [
    {
     "data": {
      "text/plain": [
       "'All tests pass 🙂'"
      ]
     },
     "execution_count": 32,
     "metadata": {},
     "output_type": "execute_result"
    }
   ],
   "source": [
    "# Reimplement Counter data structure\n",
    "from typing import Iterable\n",
    "\n",
    "def majority_element(nums: List[float]) -> float:\n",
    "    \"Use RYO counter (poorly).\"\n",
    "    counter = {}\n",
    "    for n in nums:\n",
    "        counter[n] = counter.get(n, 0) + 1\n",
    "        if counter[n] > len(nums) // 2:\n",
    "            return n\n",
    "\n",
    "test_majority_element(majority_element)"
   ]
  },
  {
   "cell_type": "code",
   "execution_count": 31,
   "metadata": {},
   "outputs": [
    {
     "data": {
      "text/plain": [
       "'All tests pass 🙂'"
      ]
     },
     "execution_count": 31,
     "metadata": {},
     "output_type": "execute_result"
    }
   ],
   "source": [
    "# Another solution for the leet version\n",
    "\n",
    "def majority_element(nums: List[int]) -> int:\n",
    "    \"Solution for leet code version with sorting. O(n log n) solution.\"\n",
    "    nums.sort()\n",
    "    return nums[len(nums) // 2]\n",
    "\n",
    "test_majority_element(majority_element)"
   ]
  },
  {
   "cell_type": "markdown",
   "metadata": {},
   "source": [
    "<br>\n",
    "<br> \n",
    "<br>\n",
    "\n",
    "----"
   ]
  },
  {
   "cell_type": "code",
   "execution_count": null,
   "metadata": {},
   "outputs": [],
   "source": []
  }
 ],
 "metadata": {
  "kernelspec": {
   "display_name": "Python 3",
   "language": "python",
   "name": "python3"
  },
  "language_info": {
   "codemirror_mode": {
    "name": "ipython",
    "version": 3
   },
   "file_extension": ".py",
   "mimetype": "text/x-python",
   "name": "python",
   "nbconvert_exporter": "python",
   "pygments_lexer": "ipython3",
   "version": "3.8.5"
  },
  "toc": {
   "base_numbering": 1,
   "nav_menu": {},
   "number_sections": false,
   "sideBar": false,
   "skip_h1_title": false,
   "title_cell": "Table of Contents",
   "title_sidebar": "Contents",
   "toc_cell": true,
   "toc_position": {},
   "toc_section_display": true,
   "toc_window_display": false
  }
 },
 "nbformat": 4,
 "nbformat_minor": 4
}
