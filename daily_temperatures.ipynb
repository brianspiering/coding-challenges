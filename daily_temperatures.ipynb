{
 "cells": [
  {
   "cell_type": "markdown",
   "metadata": {
    "toc": true
   },
   "source": [
    "<h1>Table of Contents<span class=\"tocSkip\"></span></h1>\n",
    "<div class=\"toc\"><ul class=\"toc-item\"></ul></div>"
   ]
  },
  {
   "cell_type": "markdown",
   "metadata": {},
   "source": [
    "Daily Temperatures\n",
    "----\n",
    "\n",
    "> Given a list of daily temperatures T, return a list such that, for each day in the input, tells you how many days you would have to wait until a warmer temperature. If there is no future day for which this is possible, put 0 instead.\n",
    "\n",
    "https://leetcode.com/problems/daily-temperatures/"
   ]
  },
  {
   "cell_type": "code",
   "execution_count": 5,
   "metadata": {},
   "outputs": [],
   "source": [
    "from typing import List, Callable"
   ]
  },
  {
   "cell_type": "code",
   "execution_count": 6,
   "metadata": {},
   "outputs": [],
   "source": [
    "def test_daily_temps(daily_temps: Callable) -> str:\n",
    "\n",
    "    assert daily_temps([73, 74, 75, 71, 69, 72, 76, 73]) == [1, 1, 4, 2, 1, 1, 0, 0]\n",
    "    \n",
    "    return \"All tests pass 🙂\""
   ]
  },
  {
   "cell_type": "code",
   "execution_count": 7,
   "metadata": {},
   "outputs": [
    {
     "data": {
      "text/plain": [
       "'All tests pass 🙂'"
      ]
     },
     "execution_count": 7,
     "metadata": {},
     "output_type": "execute_result"
    }
   ],
   "source": [
    "def daily_temps(temps: List[int]) -> List[int]:\n",
    "    \"Based on this solution - https://leetcode.com/problems/daily-temperatures/discuss/136017/Elegant-Python-Solution-with-Stack\"\n",
    "\n",
    "    # Placeholder for final result\n",
    "    result = [0] * len(temps)\n",
    "    # Track what we'll need which is the indexes (not actual temps)\n",
    "    stack = []\n",
    "    \n",
    "    # Loop through temps onces\n",
    "    for current_idx, t in enumerate(temps):\n",
    "        \n",
    "        # Look for lower temps than current temp\n",
    "        while stack and temps[stack[-1]] < t:\n",
    "            \n",
    "            # Keep removing indexes\n",
    "            previous_idx = stack.pop()\n",
    "            # Update final result with counts based on indexes\n",
    "            result[previous_idx] = current_idx - previous_idx\n",
    "\n",
    "        # If temps are no lower, then update      \n",
    "        stack.append(current_idx)\n",
    "\n",
    "    return result\n",
    "\n",
    "test_daily_temps(daily_temps)"
   ]
  },
  {
   "cell_type": "markdown",
   "metadata": {},
   "source": [
    "<br>\n",
    "<br> \n",
    "<br>\n",
    "\n",
    "----"
   ]
  }
 ],
 "metadata": {
  "kernelspec": {
   "display_name": "Python 3",
   "language": "python",
   "name": "python3"
  },
  "language_info": {
   "codemirror_mode": {
    "name": "ipython",
    "version": 3
   },
   "file_extension": ".py",
   "mimetype": "text/x-python",
   "name": "python",
   "nbconvert_exporter": "python",
   "pygments_lexer": "ipython3",
   "version": "3.8.9 (default, Oct 26 2021, 07:25:53) \n[Clang 13.0.0 (clang-1300.0.29.30)]"
  },
  "toc": {
   "base_numbering": 1,
   "nav_menu": {},
   "number_sections": false,
   "sideBar": false,
   "skip_h1_title": false,
   "title_cell": "Table of Contents",
   "title_sidebar": "Contents",
   "toc_cell": true,
   "toc_position": {},
   "toc_section_display": true,
   "toc_window_display": false
  },
  "vscode": {
   "interpreter": {
    "hash": "31f2aee4e71d21fbe5cf8b01ff0e069b9275f58929596ceb00d14d90e3e16cd6"
   }
  }
 },
 "nbformat": 4,
 "nbformat_minor": 4
}
