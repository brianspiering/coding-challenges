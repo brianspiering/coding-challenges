{
 "cells": [
  {
   "cell_type": "markdown",
   "id": "d8d2cb33",
   "metadata": {},
   "source": [
    "Find keys by value\n",
    "-------\n",
    "\n",
    "Given a dictionary where the values are list of sets, find all the keys where a specific set occurs.\n"
   ]
  },
  {
   "cell_type": "code",
   "execution_count": 10,
   "id": "92b9acd7",
   "metadata": {},
   "outputs": [
    {
     "ename": "SyntaxError",
     "evalue": "closing parenthesis ']' does not match opening parenthesis '{' (193452401.py, line 1)",
     "output_type": "error",
     "traceback": [
      "\u001b[0;36m  Cell \u001b[0;32mIn[10], line 1\u001b[0;36m\u001b[0m\n\u001b[0;31m    d = {'a': {1}, {3, 1}],\u001b[0m\n\u001b[0m                         ^\u001b[0m\n\u001b[0;31mSyntaxError\u001b[0m\u001b[0;31m:\u001b[0m closing parenthesis ']' does not match opening parenthesis '{'\n"
     ]
    }
   ],
   "source": [
    "d = {'a': {1}, {3, 1}],\n",
    "     'b': [{1, 3}, {2}],\n",
    "     'c': [{}],\n",
    "     'd': [{1}],\n",
    "}\n",
    "\n",
    "# Find {1} in values\n",
    "# result = {'a', 'd'}"
   ]
  },
  {
   "cell_type": "code",
   "execution_count": null,
   "id": "7f5e7b4f",
   "metadata": {},
   "outputs": [],
   "source": [
    "from collections import defaultdict\n",
    "\n",
    "d_by_value = defaultdict(set)\n",
    "for k, v in d.items():\n",
    "    for item in v:\n",
    "        d_by_value[frozenset(item)].add(k)\n",
    "\n",
    "d_by_value"
   ]
  },
  {
   "cell_type": "code",
   "execution_count": null,
   "id": "1f84c398",
   "metadata": {},
   "outputs": [],
   "source": [
    "assert d_by_value[frozenset({1})] == {'a', 'd'}\n"
   ]
  },
  {
   "cell_type": "markdown",
   "id": "861dfb05",
   "metadata": {},
   "source": [
    "<br>\n",
    "<br> \n",
    "<br>\n",
    "\n",
    "----"
   ]
  }
 ],
 "metadata": {
  "kernelspec": {
   "display_name": "Python 3 (ipykernel)",
   "language": "python",
   "name": "python3"
  },
  "language_info": {
   "codemirror_mode": {
    "name": "ipython",
    "version": 3
   },
   "file_extension": ".py",
   "mimetype": "text/x-python",
   "name": "python",
   "nbconvert_exporter": "python",
   "pygments_lexer": "ipython3",
   "version": "3.9.15"
  },
  "toc": {
   "base_numbering": 1,
   "nav_menu": {},
   "number_sections": false,
   "sideBar": false,
   "skip_h1_title": false,
   "title_cell": "Table of Contents",
   "title_sidebar": "Contents",
   "toc_cell": true,
   "toc_position": {},
   "toc_section_display": true,
   "toc_window_display": false
  }
 },
 "nbformat": 4,
 "nbformat_minor": 5
}
