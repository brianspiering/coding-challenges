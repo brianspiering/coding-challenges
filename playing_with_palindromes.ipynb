{
 "cells": [
  {
   "cell_type": "markdown",
   "metadata": {},
   "source": [
    "Palindrome Problems\n",
    "------\n",
    "\n",
    "Palindrome is a word, phrase, or sequence that reads the same backward as forward.\n",
    "\n",
    "1. Check a string\n",
    "1. Check a number\n",
    "1. Check a number while keeping it a number\n",
    "1. Check the binary representation of an integer\n",
    "1. Find longest palindrome in a sequence"
   ]
  },
  {
   "cell_type": "markdown",
   "metadata": {},
   "source": [
    "----\n",
    "1) Check if a string is palindrome\n",
    "-----"
   ]
  },
  {
   "cell_type": "code",
   "execution_count": 38,
   "metadata": {},
   "outputs": [],
   "source": [
    "reset -fs"
   ]
  },
  {
   "cell_type": "code",
   "execution_count": 39,
   "metadata": {},
   "outputs": [],
   "source": [
    "def is_string_palindrome(sequence) -> bool:\n",
    "    \"Check if sequence is a palindorme\"\n",
    "    return str(sequence) == str(sequence)[::-1]"
   ]
  },
  {
   "cell_type": "code",
   "execution_count": 40,
   "metadata": {},
   "outputs": [],
   "source": [
    "assert is_string_palindrome('poop')\n",
    "assert not is_string_palindrome('poo')"
   ]
  },
  {
   "cell_type": "markdown",
   "metadata": {},
   "source": [
    "-----\n",
    "2) Check if a number is a palindrome\n",
    "-----"
   ]
  },
  {
   "cell_type": "code",
   "execution_count": 41,
   "metadata": {},
   "outputs": [],
   "source": [
    "def is_num_palindrome(sequence) -> bool:\n",
    "    \"Check if sequence is a palindorme\"\n",
    "    return str(sequence) == str(sequence)[::-1]"
   ]
  },
  {
   "cell_type": "code",
   "execution_count": 42,
   "metadata": {},
   "outputs": [],
   "source": [
    "assert is_num_palindrome(123321)\n",
    "assert not is_num_palindrome(42)"
   ]
  },
  {
   "cell_type": "markdown",
   "metadata": {},
   "source": [
    "__Take home message__: Make sure the sequence is a string. Then Pythonically reverse a string and check for equality."
   ]
  },
  {
   "cell_type": "markdown",
   "metadata": {},
   "source": [
    "------\n",
    "3) Check a number while keeping it a number\n",
    "-----"
   ]
  },
  {
   "cell_type": "code",
   "execution_count": 7,
   "metadata": {},
   "outputs": [],
   "source": [
    "def is_num_palindrome(n: int) -> bool: \n",
    "  \n",
    "    # Find leading digit divisor\n",
    "    divisor = 1\n",
    "    while (n / divisor >= 10): \n",
    "        divisor *= 10\n",
    "  \n",
    "    while (n != 0): \n",
    "          \n",
    "        leading = n // divisor  \n",
    "        trailing = n % 10\n",
    "          \n",
    "        # If leading & trailing don't match, not a palidrome\n",
    "        if (leading != trailing):  \n",
    "            return False\n",
    "          \n",
    "        # Removing the leading and trailing digit from number \n",
    "        n = (n % divisor) // 10\n",
    "          \n",
    "        # Reducing divisor to match removed digits\n",
    "        divisor /= 100\n",
    "          \n",
    "    return True"
   ]
  },
  {
   "cell_type": "code",
   "execution_count": 4,
   "metadata": {},
   "outputs": [],
   "source": [
    "assert is_num_palindrome(123321)\n",
    "assert not is_num_palindrome(42)"
   ]
  },
  {
   "cell_type": "markdown",
   "metadata": {},
   "source": [
    "__Take home message__: Use the common trick of modulo arithmetic. Then use divide-and-conquer.\n",
    "\n",
    "When in doubt, see if one techniques will work for a coding challenge: \n",
    "\n",
    "1. A hash map\n",
    "1. Dynamic programming\n",
    "1. Divide-and-conquer\n",
    "1. Modulo arithmetic"
   ]
  },
  {
   "cell_type": "markdown",
   "metadata": {},
   "source": [
    "-----\n",
    "4) Check the binary representation of an integer\n",
    "-----"
   ]
  },
  {
   "cell_type": "code",
   "execution_count": 5,
   "metadata": {},
   "outputs": [],
   "source": [
    "def is_binary_palindrome(integer: int) -> bool:\n",
    "    \"Check if if the binary representation of an integer is a palindrome\"\n",
    "\n",
    "    try:\n",
    "        return f'{integer:b}' == f'{integer:b}'[::-1] # Py >= 3.6\n",
    "        # return bin(integer)[2:] == bin(integer)[2:][::-1] # Py < 3.6\n",
    "    except TypeError:\n",
    "        print(\"This function only checks integers.\")"
   ]
  },
  {
   "cell_type": "code",
   "execution_count": 6,
   "metadata": {},
   "outputs": [],
   "source": [
    "# Tests        \n",
    "pals = [0, 1, 3, 5, 7, 9]\n",
    "not_pals = [2, 4, 6, 8]\n",
    "\n",
    "for pal in pals:\n",
    "    assert is_binary_palindrome(integer=pal)\n",
    "\n",
    "for not_pal in not_pals:\n",
    "    assert not is_binary_palindrome(integer=not_pal) "
   ]
  },
  {
   "cell_type": "markdown",
   "metadata": {},
   "source": [
    "-----\n",
    "5) Find longest palindrome in a sequence\n",
    "-----"
   ]
  },
  {
   "cell_type": "code",
   "execution_count": 2,
   "metadata": {},
   "outputs": [],
   "source": [
    "def longest_palindrome(text: str) -> str:\n",
    "    \"Brute force check possible substrings individually\"\n",
    "    all_palindromes = []\n",
    "\n",
    "    for i in range(len(text)): # Check each letter\n",
    "        for j in range(0, i):  # Check all lengths\n",
    "\n",
    "            substring = text[j:i+1]\n",
    "\n",
    "            if substring == substring[::-1]:\n",
    "                all_palindromes.append(substring)\n",
    "\n",
    "    return max(all_palindromes, key=len)"
   ]
  },
  {
   "cell_type": "code",
   "execution_count": 8,
   "metadata": {},
   "outputs": [],
   "source": [
    "assert longest_palindrome(\"ab_abba*yz\") == \"abba\"\n",
    "assert longest_palindrome(\"forgeeksskeegfor\") == \"geeksskeeg\"\n",
    "assert longest_palindrome(\"abaaba\") == \"abaaba\"\n",
    "assert longest_palindrome(\"abababa\") == \"abababa\""
   ]
  },
  {
   "cell_type": "code",
   "execution_count": 50,
   "metadata": {},
   "outputs": [
    {
     "name": "stdout",
     "output_type": "stream",
     "text": [
      "19.3 µs ± 420 ns per loop (mean ± std. dev. of 7 runs, 100000 loops each)\n"
     ]
    }
   ],
   "source": [
    "%timeit longest_palindrome(\"ab_abba*yz\")"
   ]
  },
  {
   "cell_type": "code",
   "execution_count": 54,
   "metadata": {},
   "outputs": [],
   "source": [
    "import itertools\n",
    "\n",
    "def longest_palindrome_itertools(text: str) -> str:\n",
    "    longest, longest_length = '', 0\n",
    "    for start, stop in itertools.combinations(range(len(text)+1), 2):\n",
    "        substring = text[start:stop] \n",
    "        if (len(substring) > longest_length) and (substring == substring[::-1]):\n",
    "            longest, longest_length = substring, len(substring)\n",
    "    return longest"
   ]
  },
  {
   "cell_type": "code",
   "execution_count": 55,
   "metadata": {},
   "outputs": [
    {
     "data": {
      "text/plain": [
       "'abba'"
      ]
     },
     "execution_count": 55,
     "metadata": {},
     "output_type": "execute_result"
    }
   ],
   "source": [
    "assert longest_palindrome_itertools(\"ab_abba*yz\") == \"abba\"\n",
    "assert longest_palindrome_itertools(\"forgeeksskeegfor\") == \"geeksskeeg\"\n",
    "assert longest_palindrome_itertools(\"abaaba\") == \"abaaba\"\n",
    "assert longest_palindrome_itertools(\"abababa\") == \"abababa\""
   ]
  },
  {
   "cell_type": "code",
   "execution_count": 56,
   "metadata": {},
   "outputs": [
    {
     "name": "stdout",
     "output_type": "stream",
     "text": [
      "20.8 µs ± 1.81 µs per loop (mean ± std. dev. of 7 runs, 10000 loops each)\n"
     ]
    }
   ],
   "source": [
    "%timeit longest_palindrome_itertools(\"ab_abba*yz\")"
   ]
  },
  {
   "cell_type": "markdown",
   "metadata": {},
   "source": [
    "__Take home message__: \"When in doubt, use brute force.\""
   ]
  },
  {
   "cell_type": "markdown",
   "metadata": {},
   "source": [
    "-----"
   ]
  },
  {
   "cell_type": "markdown",
   "metadata": {},
   "source": [
    "Optimal solution\n",
    "\n",
    "https://www.geeksforgeeks.org/manachers-algorithm-linear-time-longest-palindromic-substring-part-1/"
   ]
  },
  {
   "cell_type": "markdown",
   "metadata": {},
   "source": [
    " "
   ]
  }
 ],
 "metadata": {
  "kernelspec": {
   "display_name": "Python 3",
   "language": "python",
   "name": "python3"
  },
  "language_info": {
   "codemirror_mode": {
    "name": "ipython",
    "version": 3
   },
   "file_extension": ".py",
   "mimetype": "text/x-python",
   "name": "python",
   "nbconvert_exporter": "python",
   "pygments_lexer": "ipython3",
   "version": "3.6.6"
  }
 },
 "nbformat": 4,
 "nbformat_minor": 2
}
