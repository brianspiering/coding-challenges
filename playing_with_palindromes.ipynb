{
 "cells": [
  {
   "cell_type": "markdown",
   "metadata": {},
   "source": [
    "\"A palindrome is a sequence of characters which reads the same backward or forward. Check if a sequence is a palindorme\""
   ]
  },
  {
   "cell_type": "code",
   "execution_count": 3,
   "metadata": {
    "collapsed": true
   },
   "outputs": [],
   "source": [
    "def is_palindrome(sequence):\n",
    "    \"Check if sequence is a palindorme\"\n",
    "    return str(sequence) == str(sequence)[::-1]"
   ]
  },
  {
   "cell_type": "code",
   "execution_count": 4,
   "metadata": {
    "collapsed": true
   },
   "outputs": [],
   "source": [
    "# Test Function\n",
    "pals = ['poop', 2002]\n",
    "not_pals = ['poo', 42]\n",
    "\n",
    "for pal in pals:\n",
    "    assert is_palindrome(sequence=pal)\n",
    "\n",
    "for not_pal in not_pals:\n",
    "    assert not is_palindrome(sequence=not_pal) "
   ]
  },
  {
   "cell_type": "markdown",
   "metadata": {},
   "source": [
    "----"
   ]
  },
  {
   "cell_type": "markdown",
   "metadata": {},
   "source": [
    "\"Write a method to determine if the binary representation of an integer is a palindrome\""
   ]
  },
  {
   "cell_type": "code",
   "execution_count": 5,
   "metadata": {
    "collapsed": true
   },
   "outputs": [],
   "source": [
    "def is_binary_palindrome(integer=None):\n",
    "    \"Check if if the binary representation of an integer is a palindrome\"\n",
    "\n",
    "    try:\n",
    "        return f'{integer:b}' == f'{integer:b}'[::-1] # Py >= 3.6\n",
    "        # return bin(integer)[2:] == bin(integer)[2:][::-1] # Py < 3.6\n",
    "    except TypeError:\n",
    "        print(\"This function only checks integers.\")"
   ]
  },
  {
   "cell_type": "code",
   "execution_count": 6,
   "metadata": {
    "collapsed": true
   },
   "outputs": [],
   "source": [
    "# Test function        \n",
    "pals = [0, 1, 3, 5, 7, 9]\n",
    "not_pals = [2, 4, 6, 8]\n",
    "\n",
    "for pal in pals:\n",
    "    assert is_binary_palindrome(integer=pal)\n",
    "\n",
    "for not_pal in not_pals:\n",
    "    assert not is_binary_palindrome(integer=not_pal) "
   ]
  },
  {
   "cell_type": "markdown",
   "metadata": {},
   "source": [
    "<br>\n",
    "<br> \n",
    "<br>\n",
    "\n",
    "----"
   ]
  }
 ],
 "metadata": {
  "anaconda-cloud": {},
  "kernelspec": {
   "display_name": "Python [conda env:stats_sandbox]",
   "language": "python",
   "name": "conda-env-stats_sandbox-py"
  },
  "language_info": {
   "codemirror_mode": {
    "name": "ipython",
    "version": 3
   },
   "file_extension": ".py",
   "mimetype": "text/x-python",
   "name": "python",
   "nbconvert_exporter": "python",
   "pygments_lexer": "ipython3",
   "version": "3.6.0"
  }
 },
 "nbformat": 4,
 "nbformat_minor": 1
}
