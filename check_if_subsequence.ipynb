{
 "cells": [
  {
   "attachments": {},
   "cell_type": "markdown",
   "metadata": {},
   "source": [
    "Check if sequence A is a subsequence of sequence B\n",
    "------------"
   ]
  },
  {
   "cell_type": "code",
   "execution_count": 26,
   "metadata": {},
   "outputs": [],
   "source": [
    "def test_is_subsequence():\n",
    "    assert is_in_sequence([3, 2, 1], [4, 3, 2, 1])\n",
    "    assert is_in_sequence(\"abc\", \"yzabcde\")\n",
    "    assert not is_in_sequence([1, 0], [4, 3, 2, 1])\n",
    "    assert not is_in_sequence(\"🙂\", \"yzabcde\")\n",
    "    return (\"All tests pass\")"
   ]
  },
  {
   "cell_type": "code",
   "execution_count": 27,
   "metadata": {},
   "outputs": [
    {
     "name": "stdout",
     "output_type": "stream",
     "text": [
      "All tests pass\n"
     ]
    }
   ],
   "source": [
    "\n",
    "\n",
    "def is_in_sequence(seq_short, seq_longer):\n",
    "    \"Check if shorter sequence appears in longer sequence \"\n",
    "    for i in range(len(seq_longer)):\n",
    "        if seq_longer[i:i+len(seq_short)] == seq_short:\n",
    "            return True\n",
    "    else:\n",
    "        return False\n",
    "\n",
    "print(test_is_subsequence())"
   ]
  }
 ],
 "metadata": {
  "kernelspec": {
   "display_name": "Python 3",
   "language": "python",
   "name": "python3"
  },
  "language_info": {
   "codemirror_mode": {
    "name": "ipython",
    "version": 3
   },
   "file_extension": ".py",
   "mimetype": "text/x-python",
   "name": "python",
   "nbconvert_exporter": "python",
   "pygments_lexer": "ipython3",
   "version": "3.11.1"
  },
  "orig_nbformat": 4,
  "vscode": {
   "interpreter": {
    "hash": "aee8b7b246df8f9039afb4144a1f6fd8d2ca17a180786b69acc140d282b71a49"
   }
  }
 },
 "nbformat": 4,
 "nbformat_minor": 2
}
