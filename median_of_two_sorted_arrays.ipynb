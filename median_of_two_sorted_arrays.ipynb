{
 "cells": [
  {
   "cell_type": "markdown",
   "metadata": {
    "toc": true
   },
   "source": [
    "<h1>Table of Contents<span class=\"tocSkip\"></span></h1>\n",
    "<div class=\"toc\"><ul class=\"toc-item\"><li><span><a href=\"#Median-of-Two-Sorted-Arrays\" data-toc-modified-id=\"Median-of-Two-Sorted-Arrays-1\">Median of Two Sorted Arrays</a></span></li></ul></div>"
   ]
  },
  {
   "cell_type": "markdown",
   "metadata": {},
   "source": [
    "Median of Two Sorted Arrays\n",
    "----\n",
    "\n",
    "> Given two sorted arrays nums1 and nums2 of size m and n respectively, return the median of the two sorted arrays.\n",
    "\n",
    "https://leetcode.com/problems/median-of-two-sorted-arrays/"
   ]
  },
  {
   "cell_type": "code",
   "execution_count": 14,
   "metadata": {},
   "outputs": [],
   "source": [
    "reset -fs"
   ]
  },
  {
   "cell_type": "code",
   "execution_count": 15,
   "metadata": {},
   "outputs": [],
   "source": [
    "from typing import Callable, List"
   ]
  },
  {
   "cell_type": "code",
   "execution_count": 16,
   "metadata": {},
   "outputs": [],
   "source": [
    "def test_find_median_sorted_arrays(find_median_sorted_arrays: Callable) -> str:\n",
    "    \n",
    "    assert find_median_sorted_arrays([],     [1])    == 1\n",
    "    assert find_median_sorted_arrays([2],    [])     == 2\n",
    "    assert find_median_sorted_arrays([1, 3], [2])    == 2\n",
    "    assert find_median_sorted_arrays([1, 2], [3, 4]) == 2.5\n",
    "    assert find_median_sorted_arrays([0, 0], [0, 0]) == 0\n",
    "    \n",
    "    return \"All tests pass 🙂\""
   ]
  },
  {
   "cell_type": "code",
   "execution_count": 23,
   "metadata": {},
   "outputs": [
    {
     "data": {
      "text/plain": [
       "'All tests pass 🙂'"
      ]
     },
     "execution_count": 23,
     "metadata": {},
     "output_type": "execute_result"
    }
   ],
   "source": [
    "def find_median_sorted_arrays(nums1: List[int], nums2: List[int]) -> float:\n",
    "    \"Based on this solution - https://leetcode.com/problems/median-of-two-sorted-arrays/discuss/2511/Intuitive-Python-O(log-(m%2Bn))-solution-by-kth-smallest-in-the-two-sorted-arrays-252ms\"\n",
    "    total_len = len(nums1) + len(nums2)\n",
    "    if total_len % 2 == 1:\n",
    "        return kth(nums1, nums2, total_len // 2)\n",
    "    else:\n",
    "        return (kth(nums1, nums2, total_len // 2) + kth(nums1, nums2, total_len // 2 - 1)) / 2.   \n",
    "    \n",
    "\n",
    "def kth(nums1, nums2, k):\n",
    "    \"Recursive helper function that returns certain element based on ordering\"\n",
    "    \n",
    "    # Handle empty lists\n",
    "    if not nums1:\n",
    "        return nums2[k]\n",
    "    \n",
    "    if not nums2:\n",
    "        return nums1[k]\n",
    "    \n",
    "\n",
    "    idx_nums1, idx_nums2 = len(nums1) // 2 , len(nums2) // 2\n",
    "    median_nums1, median_nums2 = nums1[idx_nums1], nums2[idx_nums2]\n",
    "    \n",
    "    # when k is bigger than the sum of a and b's median indices \n",
    "    if idx_nums1 + idx_nums2 < k:\n",
    "        # if a's median is bigger than b's, b's first half doesn't include k\n",
    "        if median_nums1 > median_nums2:\n",
    "            return kth(nums1, nums2[idx_nums2 + 1:], k - idx_nums2 - 1)\n",
    "        else:\n",
    "            return kth(nums1[idx_nums1 + 1:], nums2, k - idx_nums1 - 1)\n",
    "    # when k is smaller than the sum of a and b's indices\n",
    "    else:\n",
    "        # if a's median is bigger than b's, a's second half doesn't include k\n",
    "        if median_nums1 > median_nums2:\n",
    "            return kth(nums1[:idx_nums1], nums2, k)\n",
    "        else:\n",
    "            return kth(nums1, nums2[:idx_nums2], k)\n",
    "        \n",
    "test_find_median_sorted_arrays(find_median_sorted_arrays)"
   ]
  },
  {
   "cell_type": "markdown",
   "metadata": {},
   "source": [
    "<br>\n",
    "<br> \n",
    "<br>\n",
    "\n",
    "----"
   ]
  }
 ],
 "metadata": {
  "kernelspec": {
   "display_name": "Python 3",
   "language": "python",
   "name": "python3"
  },
  "language_info": {
   "codemirror_mode": {
    "name": "ipython",
    "version": 3
   },
   "file_extension": ".py",
   "mimetype": "text/x-python",
   "name": "python",
   "nbconvert_exporter": "python",
   "pygments_lexer": "ipython3",
   "version": "3.8.5"
  },
  "toc": {
   "base_numbering": 1,
   "nav_menu": {},
   "number_sections": false,
   "sideBar": false,
   "skip_h1_title": false,
   "title_cell": "Table of Contents",
   "title_sidebar": "Contents",
   "toc_cell": true,
   "toc_position": {},
   "toc_section_display": true,
   "toc_window_display": false
  }
 },
 "nbformat": 4,
 "nbformat_minor": 4
}
