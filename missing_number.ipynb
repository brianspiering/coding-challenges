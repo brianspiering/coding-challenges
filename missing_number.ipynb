{
 "cells": [
  {
   "cell_type": "markdown",
   "id": "d94321a1",
   "metadata": {},
   "source": [
    "Missing Number\n",
    "------\n",
    "\n",
    "Suppose you have an array of 99 numbers.\n",
    "\n",
    "The array contains the digits 1 to 100 with one digit missing.\n",
    "\n",
    "Describe four different algorithms to compute the missing number.\n",
    "\n",
    "Two of these should optimize for low storage and two of these should\n",
    "optimize for fast processing.\n"
   ]
  },
  {
   "cell_type": "code",
   "execution_count": 10,
   "id": "42e3c96b",
   "metadata": {},
   "outputs": [],
   "source": [
    "import random\n",
    "\n",
    "# Create a list with one number missing\n",
    "missing_num_list = list(range(1, 101))\n",
    "missing_num_list.remove(random.choice(missing_num_list))"
   ]
  },
  {
   "cell_type": "code",
   "execution_count": 11,
   "id": "6e015bff",
   "metadata": {},
   "outputs": [
    {
     "data": {
      "text/plain": [
       "{45}"
      ]
     },
     "execution_count": 11,
     "metadata": {},
     "output_type": "execute_result"
    }
   ],
   "source": [
    "# Optimitized for fast processing\n",
    "all_nums = set(range(1, 101))\n",
    "missing_num = all_nums-set(missing_num_list)\n",
    "missing_num"
   ]
  },
  {
   "cell_type": "code",
   "execution_count": 12,
   "id": "3756869e",
   "metadata": {},
   "outputs": [
    {
     "name": "stdout",
     "output_type": "stream",
     "text": [
      "45\n"
     ]
    }
   ],
   "source": [
    "# Optimitized for storage\n",
    "\n",
    "for i in range(1, 101):\n",
    "    if missing_num_list[i-1] != i:\n",
    "        print(i)\n",
    "        break "
   ]
  },
  {
   "cell_type": "markdown",
   "id": "fd4e36ed",
   "metadata": {},
   "source": [
    "<br>\n",
    "<br> \n",
    "<br>\n",
    "\n",
    "----"
   ]
  }
 ],
 "metadata": {
  "kernelspec": {
   "display_name": "Python 3 (ipykernel)",
   "language": "python",
   "name": "python3"
  },
  "language_info": {
   "codemirror_mode": {
    "name": "ipython",
    "version": 3
   },
   "file_extension": ".py",
   "mimetype": "text/x-python",
   "name": "python",
   "nbconvert_exporter": "python",
   "pygments_lexer": "ipython3",
   "version": "3.9.15"
  }
 },
 "nbformat": 4,
 "nbformat_minor": 5
}
