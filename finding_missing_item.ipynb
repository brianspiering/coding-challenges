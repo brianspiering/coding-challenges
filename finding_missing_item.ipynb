{
 "cells": [
  {
   "cell_type": "markdown",
   "metadata": {},
   "source": [
    "Technical Interview Challenge: <br>Find missing item\n",
    "------"
   ]
  },
  {
   "cell_type": "markdown",
   "metadata": {},
   "source": [
    "Given an list A of objects and another list B which is identical to A except that one element is removed, find that removed element."
   ]
  },
  {
   "cell_type": "markdown",
   "metadata": {},
   "source": [
    "FAQ\n",
    "------\n",
    "\n",
    "<br>\n",
    "<details><summary>\n",
    "What kind of objects?\n",
    "</summary>\n",
    "You can assume they are heterogeneous but extremely not-ill tempered. \n",
    "<br>\n",
    "For right now, let's assume they either numbers or strings in the list.\n",
    "<br>\n",
    "Ideally, your solution would change slightly ill-tempered object types.\n",
    "</details>\n",
    "\n",
    "<br>\n",
    "<details><summary>\n",
    "Are the list sorted? Are the objects in the same order in each list?\n",
    "</summary>\n",
    "No - The objects can appear in any location.\n",
    "</details>\n",
    "\n",
    "<br>\n",
    "<details><summary>\n",
    "Are their duplicate items in the list?\n",
    "</summary>\n",
    "For right now, assume there are not duplicated items within the list. Remember all items are duplicated across lists expect for one.\n",
    "</details>\n",
    "<br>\n",
    "<br>"
   ]
  },
  {
   "cell_type": "markdown",
   "metadata": {},
   "source": [
    "Preview\n",
    "------\n",
    "\n",
    "1. Start with a working naive solution\n",
    "1. Optimize that naive solution\n",
    "1. Explore how the structure of the data influences possible solutions"
   ]
  },
  {
   "cell_type": "code",
   "execution_count": 226,
   "metadata": {},
   "outputs": [],
   "source": [
    "reset -fs"
   ]
  },
  {
   "cell_type": "markdown",
   "metadata": {},
   "source": [
    "First let's make example data"
   ]
  },
  {
   "cell_type": "code",
   "execution_count": 227,
   "metadata": {},
   "outputs": [],
   "source": [
    "from random import shuffle, choice\n",
    "from string import ascii_letters"
   ]
  },
  {
   "cell_type": "code",
   "execution_count": 228,
   "metadata": {},
   "outputs": [],
   "source": [
    "def make_two_lists(n_items=100, hashable_items=True):\n",
    "    \"\"\"Make two almost identical lists, the difference is a single item is removed from one list. \n",
    "    Items in the lists are heterogeneous types.\"\"\"\n",
    "    \n",
    "    if (n_items - len(ascii_letters)) < 0:\n",
    "        # Start with letters\n",
    "        a = list(ascii_letters[:n_items-1])\n",
    "        # Add a single number\n",
    "        a.append(1)\n",
    "    else:\n",
    "        # Letters + numbers to fill out\n",
    "        a = list(ascii_letters) + list(range(n_items-len(ascii_letters)))    \n",
    "\n",
    "    if not hashable_items:\n",
    "        # Convert a single item to be a type that is not hashable\n",
    "        a[0] = set(a[0])\n",
    "        \n",
    "    # Let's mix things up\n",
    "    shuffle(a)\n",
    "    \n",
    "    # B is an independent copy of A \n",
    "    b = a[:]\n",
    "    \n",
    "    # Let's mix things up\n",
    "    shuffle(b)\n",
    "    \n",
    "    # Remove one item from b\n",
    "    missing_item = b.pop() \n",
    "    \n",
    "    return a, b, missing_item"
   ]
  },
  {
   "cell_type": "code",
   "execution_count": 229,
   "metadata": {},
   "outputs": [],
   "source": [
    "def find_missing_item_with_looping(big_list, small_list):\n",
    "    \"Procedurally removing common items one-by-one.\"\n",
    "    for item in small_list:\n",
    "        big_list.remove(item)\n",
    "    return big_list[0]"
   ]
  },
  {
   "cell_type": "code",
   "execution_count": 231,
   "metadata": {},
   "outputs": [],
   "source": [
    "# Test it for correctness\n",
    "a, b, missing_item = make_two_lists()\n",
    "assert find_missing_item_with_looping(big_list=a, small_list=b) == missing_item"
   ]
  },
  {
   "cell_type": "markdown",
   "metadata": {},
   "source": [
    "### Analysis of time and space complexity\n",
    "\n",
    "___Time___\n",
    "\n",
    "O(nm<sup>*</sup>) \n",
    "\n",
    "n - linear time through each element in smaller list.   \n",
    "m<sup>*</sup> - slightly less than linear time through m since we are decreasing its size each time.\n",
    "\n",
    "However, over not very good because it is nested linear(ish) searches.\n",
    "\n",
    "__Space__\n",
    "\n",
    "O(c) - no extra space required meant. Great! 😀"
   ]
  },
  {
   "cell_type": "code",
   "execution_count": 233,
   "metadata": {},
   "outputs": [
    {
     "ename": "ValueError",
     "evalue": "list.remove(x): x not in list",
     "output_type": "error",
     "traceback": [
      "\u001b[0;31m---------------------------------------------------------------------------\u001b[0m",
      "\u001b[0;31mValueError\u001b[0m                                Traceback (most recent call last)",
      "\u001b[0;32m<ipython-input-233-652f07bdb5d4>\u001b[0m in \u001b[0;36m<module>\u001b[0;34m\u001b[0m\n\u001b[1;32m      1\u001b[0m \u001b[0;31m# Benchmarking\u001b[0m\u001b[0;34m\u001b[0m\u001b[0;34m\u001b[0m\u001b[0;34m\u001b[0m\u001b[0m\n\u001b[1;32m      2\u001b[0m \u001b[0ma\u001b[0m\u001b[0;34m,\u001b[0m \u001b[0mb\u001b[0m\u001b[0;34m,\u001b[0m \u001b[0mmissing_item\u001b[0m \u001b[0;34m=\u001b[0m \u001b[0mmake_two_lists\u001b[0m\u001b[0;34m(\u001b[0m\u001b[0;34m)\u001b[0m\u001b[0;34m\u001b[0m\u001b[0;34m\u001b[0m\u001b[0m\n\u001b[0;32m----> 3\u001b[0;31m \u001b[0mget_ipython\u001b[0m\u001b[0;34m(\u001b[0m\u001b[0;34m)\u001b[0m\u001b[0;34m.\u001b[0m\u001b[0mrun_line_magic\u001b[0m\u001b[0;34m(\u001b[0m\u001b[0;34m'timeit'\u001b[0m\u001b[0;34m,\u001b[0m \u001b[0;34m'-n10 find_missing_item_with_looping(big_list=a, small_list=b)'\u001b[0m\u001b[0;34m)\u001b[0m\u001b[0;34m\u001b[0m\u001b[0;34m\u001b[0m\u001b[0m\n\u001b[0m",
      "\u001b[0;32m~/anaconda3/lib/python3.6/site-packages/IPython/core/interactiveshell.py\u001b[0m in \u001b[0;36mrun_line_magic\u001b[0;34m(self, magic_name, line, _stack_depth)\u001b[0m\n\u001b[1;32m   2305\u001b[0m                 \u001b[0mkwargs\u001b[0m\u001b[0;34m[\u001b[0m\u001b[0;34m'local_ns'\u001b[0m\u001b[0;34m]\u001b[0m \u001b[0;34m=\u001b[0m \u001b[0msys\u001b[0m\u001b[0;34m.\u001b[0m\u001b[0m_getframe\u001b[0m\u001b[0;34m(\u001b[0m\u001b[0mstack_depth\u001b[0m\u001b[0;34m)\u001b[0m\u001b[0;34m.\u001b[0m\u001b[0mf_locals\u001b[0m\u001b[0;34m\u001b[0m\u001b[0;34m\u001b[0m\u001b[0m\n\u001b[1;32m   2306\u001b[0m             \u001b[0;32mwith\u001b[0m \u001b[0mself\u001b[0m\u001b[0;34m.\u001b[0m\u001b[0mbuiltin_trap\u001b[0m\u001b[0;34m:\u001b[0m\u001b[0;34m\u001b[0m\u001b[0;34m\u001b[0m\u001b[0m\n\u001b[0;32m-> 2307\u001b[0;31m                 \u001b[0mresult\u001b[0m \u001b[0;34m=\u001b[0m \u001b[0mfn\u001b[0m\u001b[0;34m(\u001b[0m\u001b[0;34m*\u001b[0m\u001b[0margs\u001b[0m\u001b[0;34m,\u001b[0m \u001b[0;34m**\u001b[0m\u001b[0mkwargs\u001b[0m\u001b[0;34m)\u001b[0m\u001b[0;34m\u001b[0m\u001b[0;34m\u001b[0m\u001b[0m\n\u001b[0m\u001b[1;32m   2308\u001b[0m             \u001b[0;32mreturn\u001b[0m \u001b[0mresult\u001b[0m\u001b[0;34m\u001b[0m\u001b[0;34m\u001b[0m\u001b[0m\n\u001b[1;32m   2309\u001b[0m \u001b[0;34m\u001b[0m\u001b[0m\n",
      "\u001b[0;32m</Users/brian/anaconda3/lib/python3.6/site-packages/decorator.py:decorator-gen-60>\u001b[0m in \u001b[0;36mtimeit\u001b[0;34m(self, line, cell, local_ns)\u001b[0m\n",
      "\u001b[0;32m~/anaconda3/lib/python3.6/site-packages/IPython/core/magic.py\u001b[0m in \u001b[0;36m<lambda>\u001b[0;34m(f, *a, **k)\u001b[0m\n\u001b[1;32m    185\u001b[0m     \u001b[0;31m# but it's overkill for just that one bit of state.\u001b[0m\u001b[0;34m\u001b[0m\u001b[0;34m\u001b[0m\u001b[0;34m\u001b[0m\u001b[0m\n\u001b[1;32m    186\u001b[0m     \u001b[0;32mdef\u001b[0m \u001b[0mmagic_deco\u001b[0m\u001b[0;34m(\u001b[0m\u001b[0marg\u001b[0m\u001b[0;34m)\u001b[0m\u001b[0;34m:\u001b[0m\u001b[0;34m\u001b[0m\u001b[0;34m\u001b[0m\u001b[0m\n\u001b[0;32m--> 187\u001b[0;31m         \u001b[0mcall\u001b[0m \u001b[0;34m=\u001b[0m \u001b[0;32mlambda\u001b[0m \u001b[0mf\u001b[0m\u001b[0;34m,\u001b[0m \u001b[0;34m*\u001b[0m\u001b[0ma\u001b[0m\u001b[0;34m,\u001b[0m \u001b[0;34m**\u001b[0m\u001b[0mk\u001b[0m\u001b[0;34m:\u001b[0m \u001b[0mf\u001b[0m\u001b[0;34m(\u001b[0m\u001b[0;34m*\u001b[0m\u001b[0ma\u001b[0m\u001b[0;34m,\u001b[0m \u001b[0;34m**\u001b[0m\u001b[0mk\u001b[0m\u001b[0;34m)\u001b[0m\u001b[0;34m\u001b[0m\u001b[0;34m\u001b[0m\u001b[0m\n\u001b[0m\u001b[1;32m    188\u001b[0m \u001b[0;34m\u001b[0m\u001b[0m\n\u001b[1;32m    189\u001b[0m         \u001b[0;32mif\u001b[0m \u001b[0mcallable\u001b[0m\u001b[0;34m(\u001b[0m\u001b[0marg\u001b[0m\u001b[0;34m)\u001b[0m\u001b[0;34m:\u001b[0m\u001b[0;34m\u001b[0m\u001b[0;34m\u001b[0m\u001b[0m\n",
      "\u001b[0;32m~/anaconda3/lib/python3.6/site-packages/IPython/core/magics/execution.py\u001b[0m in \u001b[0;36mtimeit\u001b[0;34m(self, line, cell, local_ns)\u001b[0m\n\u001b[1;32m   1149\u001b[0m                     \u001b[0;32mbreak\u001b[0m\u001b[0;34m\u001b[0m\u001b[0;34m\u001b[0m\u001b[0m\n\u001b[1;32m   1150\u001b[0m \u001b[0;34m\u001b[0m\u001b[0m\n\u001b[0;32m-> 1151\u001b[0;31m         \u001b[0mall_runs\u001b[0m \u001b[0;34m=\u001b[0m \u001b[0mtimer\u001b[0m\u001b[0;34m.\u001b[0m\u001b[0mrepeat\u001b[0m\u001b[0;34m(\u001b[0m\u001b[0mrepeat\u001b[0m\u001b[0;34m,\u001b[0m \u001b[0mnumber\u001b[0m\u001b[0;34m)\u001b[0m\u001b[0;34m\u001b[0m\u001b[0;34m\u001b[0m\u001b[0m\n\u001b[0m\u001b[1;32m   1152\u001b[0m         \u001b[0mbest\u001b[0m \u001b[0;34m=\u001b[0m \u001b[0mmin\u001b[0m\u001b[0;34m(\u001b[0m\u001b[0mall_runs\u001b[0m\u001b[0;34m)\u001b[0m \u001b[0;34m/\u001b[0m \u001b[0mnumber\u001b[0m\u001b[0;34m\u001b[0m\u001b[0;34m\u001b[0m\u001b[0m\n\u001b[1;32m   1153\u001b[0m         \u001b[0mworst\u001b[0m \u001b[0;34m=\u001b[0m \u001b[0mmax\u001b[0m\u001b[0;34m(\u001b[0m\u001b[0mall_runs\u001b[0m\u001b[0;34m)\u001b[0m \u001b[0;34m/\u001b[0m \u001b[0mnumber\u001b[0m\u001b[0;34m\u001b[0m\u001b[0;34m\u001b[0m\u001b[0m\n",
      "\u001b[0;32m~/anaconda3/lib/python3.6/timeit.py\u001b[0m in \u001b[0;36mrepeat\u001b[0;34m(self, repeat, number)\u001b[0m\n\u001b[1;32m    204\u001b[0m         \u001b[0mr\u001b[0m \u001b[0;34m=\u001b[0m \u001b[0;34m[\u001b[0m\u001b[0;34m]\u001b[0m\u001b[0;34m\u001b[0m\u001b[0;34m\u001b[0m\u001b[0m\n\u001b[1;32m    205\u001b[0m         \u001b[0;32mfor\u001b[0m \u001b[0mi\u001b[0m \u001b[0;32min\u001b[0m \u001b[0mrange\u001b[0m\u001b[0;34m(\u001b[0m\u001b[0mrepeat\u001b[0m\u001b[0;34m)\u001b[0m\u001b[0;34m:\u001b[0m\u001b[0;34m\u001b[0m\u001b[0;34m\u001b[0m\u001b[0m\n\u001b[0;32m--> 206\u001b[0;31m             \u001b[0mt\u001b[0m \u001b[0;34m=\u001b[0m \u001b[0mself\u001b[0m\u001b[0;34m.\u001b[0m\u001b[0mtimeit\u001b[0m\u001b[0;34m(\u001b[0m\u001b[0mnumber\u001b[0m\u001b[0;34m)\u001b[0m\u001b[0;34m\u001b[0m\u001b[0;34m\u001b[0m\u001b[0m\n\u001b[0m\u001b[1;32m    207\u001b[0m             \u001b[0mr\u001b[0m\u001b[0;34m.\u001b[0m\u001b[0mappend\u001b[0m\u001b[0;34m(\u001b[0m\u001b[0mt\u001b[0m\u001b[0;34m)\u001b[0m\u001b[0;34m\u001b[0m\u001b[0;34m\u001b[0m\u001b[0m\n\u001b[1;32m    208\u001b[0m         \u001b[0;32mreturn\u001b[0m \u001b[0mr\u001b[0m\u001b[0;34m\u001b[0m\u001b[0;34m\u001b[0m\u001b[0m\n",
      "\u001b[0;32m~/anaconda3/lib/python3.6/site-packages/IPython/core/magics/execution.py\u001b[0m in \u001b[0;36mtimeit\u001b[0;34m(self, number)\u001b[0m\n\u001b[1;32m    159\u001b[0m         \u001b[0mgc\u001b[0m\u001b[0;34m.\u001b[0m\u001b[0mdisable\u001b[0m\u001b[0;34m(\u001b[0m\u001b[0;34m)\u001b[0m\u001b[0;34m\u001b[0m\u001b[0;34m\u001b[0m\u001b[0m\n\u001b[1;32m    160\u001b[0m         \u001b[0;32mtry\u001b[0m\u001b[0;34m:\u001b[0m\u001b[0;34m\u001b[0m\u001b[0;34m\u001b[0m\u001b[0m\n\u001b[0;32m--> 161\u001b[0;31m             \u001b[0mtiming\u001b[0m \u001b[0;34m=\u001b[0m \u001b[0mself\u001b[0m\u001b[0;34m.\u001b[0m\u001b[0minner\u001b[0m\u001b[0;34m(\u001b[0m\u001b[0mit\u001b[0m\u001b[0;34m,\u001b[0m \u001b[0mself\u001b[0m\u001b[0;34m.\u001b[0m\u001b[0mtimer\u001b[0m\u001b[0;34m)\u001b[0m\u001b[0;34m\u001b[0m\u001b[0;34m\u001b[0m\u001b[0m\n\u001b[0m\u001b[1;32m    162\u001b[0m         \u001b[0;32mfinally\u001b[0m\u001b[0;34m:\u001b[0m\u001b[0;34m\u001b[0m\u001b[0;34m\u001b[0m\u001b[0m\n\u001b[1;32m    163\u001b[0m             \u001b[0;32mif\u001b[0m \u001b[0mgcold\u001b[0m\u001b[0;34m:\u001b[0m\u001b[0;34m\u001b[0m\u001b[0;34m\u001b[0m\u001b[0m\n",
      "\u001b[0;32m<magic-timeit>\u001b[0m in \u001b[0;36minner\u001b[0;34m(_it, _timer)\u001b[0m\n",
      "\u001b[0;32m<ipython-input-229-dd89c28f9fbc>\u001b[0m in \u001b[0;36mfind_missing_item_with_looping\u001b[0;34m(big_list, small_list)\u001b[0m\n\u001b[1;32m      2\u001b[0m     \u001b[0;34m\"Procedurally removing common items one-by-one.\"\u001b[0m\u001b[0;34m\u001b[0m\u001b[0;34m\u001b[0m\u001b[0m\n\u001b[1;32m      3\u001b[0m     \u001b[0;32mfor\u001b[0m \u001b[0mitem\u001b[0m \u001b[0;32min\u001b[0m \u001b[0msmall_list\u001b[0m\u001b[0;34m:\u001b[0m\u001b[0;34m\u001b[0m\u001b[0;34m\u001b[0m\u001b[0m\n\u001b[0;32m----> 4\u001b[0;31m         \u001b[0mbig_list\u001b[0m\u001b[0;34m.\u001b[0m\u001b[0mremove\u001b[0m\u001b[0;34m(\u001b[0m\u001b[0mitem\u001b[0m\u001b[0;34m)\u001b[0m\u001b[0;34m\u001b[0m\u001b[0;34m\u001b[0m\u001b[0m\n\u001b[0m\u001b[1;32m      5\u001b[0m     \u001b[0;32mreturn\u001b[0m \u001b[0mbig_list\u001b[0m\u001b[0;34m[\u001b[0m\u001b[0;36m0\u001b[0m\u001b[0;34m]\u001b[0m\u001b[0;34m\u001b[0m\u001b[0;34m\u001b[0m\u001b[0m\n",
      "\u001b[0;31mValueError\u001b[0m: list.remove(x): x not in list"
     ]
    }
   ],
   "source": [
    "# Benchmarking\n",
    "a, b, missing_item = make_two_lists()\n",
    "%timeit -n10 find_missing_item_with_looping(big_list=a, small_list=b)"
   ]
  },
  {
   "cell_type": "markdown",
   "metadata": {},
   "source": [
    "We have a ValueError when we try to benchmarking because big_list and little_list refer to (and manipulate) a and b.\n",
    "\n",
    "We need to refactor our function for benchmarking to avoid manipulating global state."
   ]
  },
  {
   "cell_type": "code",
   "execution_count": 234,
   "metadata": {},
   "outputs": [],
   "source": [
    "def find_missing_item_with_looping_safe(big_list, small_list):\n",
    "    \"Procedurally removing common items one-by-one without manipulating global state.\"\n",
    "    big_list_copy = big_list[:]\n",
    "    for item in small_list:\n",
    "        big_list_copy.remove(item)\n",
    "    return big_list_copy[0]"
   ]
  },
  {
   "cell_type": "code",
   "execution_count": 235,
   "metadata": {},
   "outputs": [
    {
     "name": "stdout",
     "output_type": "stream",
     "text": [
      "75.8 µs ± 12.2 µs per loop (mean ± std. dev. of 7 runs, 10 loops each)\n"
     ]
    }
   ],
   "source": [
    "# Benchmarking\n",
    "a, b, missing_item = make_two_lists()\n",
    "%timeit -n10 find_missing_item_with_looping_safe(big_list=a, small_list=b)"
   ]
  },
  {
   "cell_type": "markdown",
   "metadata": {},
   "source": [
    "### Analysis of time and space complexity\n",
    "\n",
    "___Time___\n",
    "\n",
    "O(nm<sup>*</sup>) \n",
    "\n",
    "n - linear time through each element in smaller list.   \n",
    "m<sup>*</sup> - slightly less than linear time through m since we are decreasing its size each time.\n",
    "\n",
    "However, over not very good because it is nested linear(ish) searches.\n",
    "\n",
    "__Space__\n",
    "\n",
    "O(n) - We need extra space which will grow with the size of the list. Not great 🙁"
   ]
  },
  {
   "cell_type": "markdown",
   "metadata": {},
   "source": [
    "Let's improve our run time by creating a set of copy.\n",
    "\n",
    "We already have to pay the space cost but we can save the look up cost."
   ]
  },
  {
   "cell_type": "code",
   "execution_count": 236,
   "metadata": {},
   "outputs": [],
   "source": [
    "def find_missing_item_with_looping_optimitized(big_list, small_list):\n",
    "    \"Procedurally removing common items one-by-one with time optimtization.\"\n",
    "    big_list = set(big_list)\n",
    "    for item in small_list:\n",
    "        big_list.remove(item)\n",
    "    return big_list.pop()"
   ]
  },
  {
   "cell_type": "code",
   "execution_count": 237,
   "metadata": {},
   "outputs": [],
   "source": [
    "# Test it\n",
    "a, b, missing_item = make_two_lists()\n",
    "assert find_missing_item_with_looping_optimitized(big_list=a, small_list=b) == missing_item"
   ]
  },
  {
   "cell_type": "markdown",
   "metadata": {},
   "source": [
    "### Analysis of time and space complexity\n",
    "\n",
    "___Time___\n",
    "\n",
    "O(n+m) \n",
    "\n",
    "n - linear time through each element in smaller list.   \n",
    "m - linear time to construct the set representation.\n",
    "\n",
    "Better than before.\n",
    "\n",
    "__Space__\n",
    "\n",
    "O(n) - We need extra space which will grow with the size of the list. Not great 🙁"
   ]
  },
  {
   "cell_type": "code",
   "execution_count": 238,
   "metadata": {},
   "outputs": [
    {
     "name": "stdout",
     "output_type": "stream",
     "text": [
      "25.1 µs ± 10.6 µs per loop (mean ± std. dev. of 7 runs, 10 loops each)\n"
     ]
    }
   ],
   "source": [
    "# Benchmarking\n",
    "a, b, missing_item = make_two_lists()\n",
    "%timeit -n10 find_missing_item_with_looping_optimitized(big_list=a, small_list=b)"
   ]
  },
  {
   "cell_type": "markdown",
   "metadata": {},
   "source": [
    "The benchmarking shows we are much faster.\n",
    "\n",
    "If that set idea works for one list representation, it will work for other..."
   ]
  },
  {
   "cell_type": "code",
   "execution_count": 239,
   "metadata": {},
   "outputs": [],
   "source": [
    "def find_missing_item_with_sets(big_list, small_list):\n",
    "    \"Make a set comparision\"\n",
    "    return (set(big_list) - set(small_list)).pop()"
   ]
  },
  {
   "cell_type": "code",
   "execution_count": 240,
   "metadata": {},
   "outputs": [],
   "source": [
    "# Test it\n",
    "a, b, missing_item = make_two_lists()\n",
    "assert find_missing_item_with_sets(big_list=a, small_list=b) == missing_item"
   ]
  },
  {
   "cell_type": "markdown",
   "metadata": {},
   "source": [
    "### Analysis of time and space complexity\n",
    "\n",
    "___Time___\n",
    "\n",
    "Big O = O(n + m) \n",
    "\n",
    "n - linear time to construct set from a  \n",
    "m - linear time to construct set from b  \n",
    "\n",
    "__Space__\n",
    "\n",
    "Big O = O(n + m)  \n",
    "n - Make a hash table with entry for each time  \n",
    "m - Make another hash table for each entry  \n",
    "\n",
    "We have just about doubled our space because we have to keep to copies around"
   ]
  },
  {
   "cell_type": "code",
   "execution_count": 241,
   "metadata": {},
   "outputs": [
    {
     "name": "stdout",
     "output_type": "stream",
     "text": [
      "9.09 µs ± 2.34 µs per loop (mean ± std. dev. of 7 runs, 10 loops each)\n"
     ]
    }
   ],
   "source": [
    "# Benchmarking\n",
    "\n",
    "%timeit -n10 find_missing_item_with_sets(big_list=a, small_list=b)"
   ]
  },
  {
   "cell_type": "markdown",
   "metadata": {},
   "source": [
    "The best time so far.\n",
    "\n",
    "Let's compare it as items grow"
   ]
  },
  {
   "cell_type": "code",
   "execution_count": 243,
   "metadata": {},
   "outputs": [
    {
     "name": "stdout",
     "output_type": "stream",
     "text": [
      "\n",
      "n items: 10\n",
      "4.06 µs ± 280 ns per loop (mean ± std. dev. of 7 runs, 20 loops each)\n",
      "1.56 µs ± 75.7 ns per loop (mean ± std. dev. of 7 runs, 20 loops each)\n",
      "2.25 µs ± 141 ns per loop (mean ± std. dev. of 7 runs, 20 loops each)\n",
      "\n",
      "n items: 100\n",
      "85.7 µs ± 23.9 µs per loop (mean ± std. dev. of 7 runs, 20 loops each)\n",
      "13.1 µs ± 1.53 µs per loop (mean ± std. dev. of 7 runs, 20 loops each)\n",
      "8.9 µs ± 1.34 µs per loop (mean ± std. dev. of 7 runs, 20 loops each)\n",
      "\n",
      "n items: 1,000\n",
      "4.13 ms ± 296 µs per loop (mean ± std. dev. of 7 runs, 20 loops each)\n",
      "109 µs ± 12.4 µs per loop (mean ± std. dev. of 7 runs, 20 loops each)\n",
      "62.6 µs ± 10 µs per loop (mean ± std. dev. of 7 runs, 20 loops each)\n",
      "\n",
      "n items: 5,000\n",
      "106 ms ± 3.61 ms per loop (mean ± std. dev. of 7 runs, 20 loops each)\n",
      "547 µs ± 12.2 µs per loop (mean ± std. dev. of 7 runs, 20 loops each)\n",
      "304 µs ± 17.7 µs per loop (mean ± std. dev. of 7 runs, 20 loops each)\n"
     ]
    }
   ],
   "source": [
    "# Benchmarking - compare the best functions as list sizes grow\n",
    "n_items_list = [10, 100, 1_000, 5_000]\n",
    "\n",
    "for n_items in n_items_list:\n",
    "    print()\n",
    "    print(f\"n items: {n_items:,}\")\n",
    "    a, b, missing_item = make_two_lists(n_items)\n",
    "    %timeit -n20 find_missing_item_with_looping_safe(big_list=a, small_list=b)\n",
    "\n",
    "    a, b, missing_item = make_two_lists(n_items)\n",
    "    %timeit -n20 find_missing_item_with_looping_optimitized(big_list=a, small_list=b)\n",
    "\n",
    "    a, b, missing_item = make_two_lists(n_items)\n",
    "    %timeit -n20 find_missing_item_with_sets(big_list=a, small_list=b)"
   ]
  },
  {
   "cell_type": "markdown",
   "metadata": {},
   "source": [
    "The interesting thing is that even though the Big O optimized loop and set methods are the same, set method is just about 2x as fast.\n",
    "\n",
    "My hypothesis is the set comparison is optimized at the byte code level compared to manually coded comparison code.\n",
    "\n",
    "When in doubt, do the Pythonic thing to get Python's optimizations."
   ]
  },
  {
   "cell_type": "markdown",
   "metadata": {},
   "source": [
    "The current top solution assume well-tempered object types, well at least hashable.\n",
    "\n",
    "What happens to our functions if items in the list are not hashable?"
   ]
  },
  {
   "cell_type": "code",
   "execution_count": 244,
   "metadata": {},
   "outputs": [
    {
     "ename": "TypeError",
     "evalue": "unhashable type: 'set'",
     "output_type": "error",
     "traceback": [
      "\u001b[0;31m---------------------------------------------------------------------------\u001b[0m",
      "\u001b[0;31mTypeError\u001b[0m                                 Traceback (most recent call last)",
      "\u001b[0;32m<ipython-input-244-55a6324e8862>\u001b[0m in \u001b[0;36m<module>\u001b[0;34m\u001b[0m\n\u001b[1;32m      1\u001b[0m \u001b[0ma\u001b[0m\u001b[0;34m,\u001b[0m \u001b[0mb\u001b[0m\u001b[0;34m,\u001b[0m \u001b[0mmissing_item\u001b[0m \u001b[0;34m=\u001b[0m \u001b[0mmake_two_lists\u001b[0m\u001b[0;34m(\u001b[0m\u001b[0mhashable_items\u001b[0m\u001b[0;34m=\u001b[0m\u001b[0;32mFalse\u001b[0m\u001b[0;34m)\u001b[0m\u001b[0;34m\u001b[0m\u001b[0;34m\u001b[0m\u001b[0m\n\u001b[0;32m----> 2\u001b[0;31m \u001b[0mfind_missing_item_with_sets\u001b[0m\u001b[0;34m(\u001b[0m\u001b[0mbig_list\u001b[0m\u001b[0;34m=\u001b[0m\u001b[0ma\u001b[0m\u001b[0;34m,\u001b[0m \u001b[0msmall_list\u001b[0m\u001b[0;34m=\u001b[0m\u001b[0mb\u001b[0m\u001b[0;34m)\u001b[0m\u001b[0;34m\u001b[0m\u001b[0;34m\u001b[0m\u001b[0m\n\u001b[0m",
      "\u001b[0;32m<ipython-input-239-499b283adbf0>\u001b[0m in \u001b[0;36mfind_missing_item_with_sets\u001b[0;34m(big_list, small_list)\u001b[0m\n\u001b[1;32m      1\u001b[0m \u001b[0;32mdef\u001b[0m \u001b[0mfind_missing_item_with_sets\u001b[0m\u001b[0;34m(\u001b[0m\u001b[0mbig_list\u001b[0m\u001b[0;34m,\u001b[0m \u001b[0msmall_list\u001b[0m\u001b[0;34m)\u001b[0m\u001b[0;34m:\u001b[0m\u001b[0;34m\u001b[0m\u001b[0;34m\u001b[0m\u001b[0m\n\u001b[1;32m      2\u001b[0m     \u001b[0;34m\"Make a set comparision\"\u001b[0m\u001b[0;34m\u001b[0m\u001b[0;34m\u001b[0m\u001b[0m\n\u001b[0;32m----> 3\u001b[0;31m     \u001b[0;32mreturn\u001b[0m \u001b[0;34m(\u001b[0m\u001b[0mset\u001b[0m\u001b[0;34m(\u001b[0m\u001b[0mbig_list\u001b[0m\u001b[0;34m)\u001b[0m \u001b[0;34m-\u001b[0m \u001b[0mset\u001b[0m\u001b[0;34m(\u001b[0m\u001b[0msmall_list\u001b[0m\u001b[0;34m)\u001b[0m\u001b[0;34m)\u001b[0m\u001b[0;34m.\u001b[0m\u001b[0mpop\u001b[0m\u001b[0;34m(\u001b[0m\u001b[0;34m)\u001b[0m\u001b[0;34m\u001b[0m\u001b[0;34m\u001b[0m\u001b[0m\n\u001b[0m",
      "\u001b[0;31mTypeError\u001b[0m: unhashable type: 'set'"
     ]
    }
   ],
   "source": [
    "a, b, missing_item = make_two_lists(hashable_items=False)\n",
    "find_missing_item_with_sets(big_list=a, small_list=b)"
   ]
  },
  {
   "cell_type": "markdown",
   "metadata": {},
   "source": [
    "The fastest function no longer works! 🙁"
   ]
  },
  {
   "cell_type": "code",
   "execution_count": 245,
   "metadata": {},
   "outputs": [
    {
     "ename": "TypeError",
     "evalue": "unhashable type: 'set'",
     "output_type": "error",
     "traceback": [
      "\u001b[0;31m---------------------------------------------------------------------------\u001b[0m",
      "\u001b[0;31mTypeError\u001b[0m                                 Traceback (most recent call last)",
      "\u001b[0;32m<ipython-input-245-5742a9abc3af>\u001b[0m in \u001b[0;36m<module>\u001b[0;34m\u001b[0m\n\u001b[1;32m      1\u001b[0m \u001b[0ma\u001b[0m\u001b[0;34m,\u001b[0m \u001b[0mb\u001b[0m\u001b[0;34m,\u001b[0m \u001b[0mmissing_item\u001b[0m \u001b[0;34m=\u001b[0m \u001b[0mmake_two_lists\u001b[0m\u001b[0;34m(\u001b[0m\u001b[0mhashable_items\u001b[0m\u001b[0;34m=\u001b[0m\u001b[0;32mFalse\u001b[0m\u001b[0;34m)\u001b[0m\u001b[0;34m\u001b[0m\u001b[0;34m\u001b[0m\u001b[0m\n\u001b[0;32m----> 2\u001b[0;31m \u001b[0mfind_missing_item_with_looping_optimitized\u001b[0m\u001b[0;34m(\u001b[0m\u001b[0mbig_list\u001b[0m\u001b[0;34m=\u001b[0m\u001b[0ma\u001b[0m\u001b[0;34m,\u001b[0m \u001b[0msmall_list\u001b[0m\u001b[0;34m=\u001b[0m\u001b[0mb\u001b[0m\u001b[0;34m)\u001b[0m\u001b[0;34m\u001b[0m\u001b[0;34m\u001b[0m\u001b[0m\n\u001b[0m",
      "\u001b[0;32m<ipython-input-236-82c5db8ba0b4>\u001b[0m in \u001b[0;36mfind_missing_item_with_looping_optimitized\u001b[0;34m(big_list, small_list)\u001b[0m\n\u001b[1;32m      1\u001b[0m \u001b[0;32mdef\u001b[0m \u001b[0mfind_missing_item_with_looping_optimitized\u001b[0m\u001b[0;34m(\u001b[0m\u001b[0mbig_list\u001b[0m\u001b[0;34m,\u001b[0m \u001b[0msmall_list\u001b[0m\u001b[0;34m)\u001b[0m\u001b[0;34m:\u001b[0m\u001b[0;34m\u001b[0m\u001b[0;34m\u001b[0m\u001b[0m\n\u001b[1;32m      2\u001b[0m     \u001b[0;34m\"Procedurally removing common items one-by-one with time optimtization.\"\u001b[0m\u001b[0;34m\u001b[0m\u001b[0;34m\u001b[0m\u001b[0m\n\u001b[0;32m----> 3\u001b[0;31m     \u001b[0mbig_list\u001b[0m \u001b[0;34m=\u001b[0m \u001b[0mset\u001b[0m\u001b[0;34m(\u001b[0m\u001b[0mbig_list\u001b[0m\u001b[0;34m)\u001b[0m\u001b[0;34m\u001b[0m\u001b[0;34m\u001b[0m\u001b[0m\n\u001b[0m\u001b[1;32m      4\u001b[0m     \u001b[0;32mfor\u001b[0m \u001b[0mitem\u001b[0m \u001b[0;32min\u001b[0m \u001b[0msmall_list\u001b[0m\u001b[0;34m:\u001b[0m\u001b[0;34m\u001b[0m\u001b[0;34m\u001b[0m\u001b[0m\n\u001b[1;32m      5\u001b[0m         \u001b[0mbig_list\u001b[0m\u001b[0;34m.\u001b[0m\u001b[0mremove\u001b[0m\u001b[0;34m(\u001b[0m\u001b[0mitem\u001b[0m\u001b[0;34m)\u001b[0m\u001b[0;34m\u001b[0m\u001b[0;34m\u001b[0m\u001b[0m\n",
      "\u001b[0;31mTypeError\u001b[0m: unhashable type: 'set'"
     ]
    }
   ],
   "source": [
    "a, b, missing_item = make_two_lists(hashable_items=False)\n",
    "find_missing_item_with_looping_optimitized(big_list=a, small_list=b)"
   ]
  },
  {
   "cell_type": "markdown",
   "metadata": {},
   "source": [
    "Some with our optimized loop function"
   ]
  },
  {
   "cell_type": "code",
   "execution_count": 246,
   "metadata": {},
   "outputs": [],
   "source": [
    "a, b, missing_item = make_two_lists(hashable_items=False)\n",
    "assert find_missing_item_with_looping_safe(big_list=a, small_list=b) == missing_item"
   ]
  },
  {
   "cell_type": "markdown",
   "metadata": {},
   "source": [
    "We have to use our looping function.\n",
    "\n",
    "It might be slow but it is robust."
   ]
  },
  {
   "cell_type": "markdown",
   "metadata": {},
   "source": [
    "Take-aways\n",
    "-----\n",
    "\n",
    "- Start with working code to understand the problem and possible solutions.\n",
    "- Test, benchmark, and refactor as you go.\n",
    "- Sets are useful (if you can use them).\n",
    "- Knowing multiple possible solutions allows for flexibility."
   ]
  },
  {
   "cell_type": "markdown",
   "metadata": {},
   "source": [
    "References\n",
    "------\n",
    "\n",
    "- https://www.glassdoor.com/Interview/Given-an-list-A-of-objects-and-another-list-B-which-is-identical-to-A-except-that-one-element-is-removed-find-that-removed-QTN_1966980.htm"
   ]
  },
  {
   "cell_type": "markdown",
   "metadata": {},
   "source": [
    "<br>\n",
    "<br> \n",
    "<br>\n",
    "\n",
    "----"
   ]
  }
 ],
 "metadata": {
  "kernelspec": {
   "display_name": "Python 3",
   "language": "python",
   "name": "python3"
  },
  "language_info": {
   "codemirror_mode": {
    "name": "ipython",
    "version": 3
   },
   "file_extension": ".py",
   "mimetype": "text/x-python",
   "name": "python",
   "nbconvert_exporter": "python",
   "pygments_lexer": "ipython3",
   "version": "3.6.8"
  }
 },
 "nbformat": 4,
 "nbformat_minor": 2
}
